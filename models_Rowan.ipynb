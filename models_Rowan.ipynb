{
 "cells": [
  {
   "cell_type": "code",
   "execution_count": 6,
   "metadata": {},
   "outputs": [],
   "source": [
    "import numpy as np\n",
    "from sklearn.naive_bayes import MultinomialNB\n",
    "from sklearn.model_selection import GridSearchCV\n",
    "from sklearn.linear_model import LogisticRegression\n",
    "from nltk.corpus import stopwords\n",
    "from utils import pipeline, calculate_metrics\n"
   ]
  },
  {
   "cell_type": "code",
   "execution_count": 3,
   "metadata": {},
   "outputs": [
    {
     "name": "stdout",
     "output_type": "stream",
     "text": [
      "X_train: (512, 326); y_train: 512\n",
      "X_val: (128, 326); y_val: 128\n",
      "X_test: (160, 326); y_test: 160\n",
      "Vocabulary size: 326\n"
     ]
    }
   ],
   "source": [
    "fp_data = \"./op_spam_v1.4/negative_polarity/\"\n",
    "max_features = None  # Maximum vocab size\n",
    "ngram_range = (1, 1)  # Range of n-grams to include in the vocabulary\n",
    "min_df = 0.05  # Minimal document frequency of a word to be included in the vocabulary\n",
    "stop_words = set(stopwords.words(\"english\"))\n",
    "val_size = 0.2  # Size of the validation set as a percentage of the training set, set to None to disable\n",
    "\n",
    "X_train, X_val, X_test, y_train, y_val, y_test, vectorizer = pipeline(fp_data, max_features, ngram_range, min_df,\n",
    "                                                                        stop_words=stop_words, val_size=val_size)\n",
    "\n",
    "print(f\"X_train: {X_train.shape}; y_train: {len(y_train)}\")\n",
    "print(f\"X_val: {X_val.shape}; y_val: {len(y_val)}\")\n",
    "print(f\"X_test: {X_test.shape}; y_test: {len(y_test)}\")\n",
    "print(f\"Vocabulary size: {len(vectorizer.vocabulary_)}\")\n"
   ]
  },
  {
   "cell_type": "code",
   "execution_count": 9,
   "metadata": {},
   "outputs": [],
   "source": [
    "def tuning(model, values: list, param: str):\n",
    "    model_tune = model\n",
    "    tuning = GridSearchCV(model_tune, {param:values}, cv=10)\n",
    "    tuning.fit(X_val, y_val)\n",
    "    best_param = tuning.best_params_[param]\n",
    "    print('tuned parameter ', best_param)\n",
    "    return best_param\n",
    "\n",
    "def model_creation(model):\n",
    "    \n",
    "    model.fit(X_train,y_train)\n",
    "    pred = model.predict(X_test)\n",
    "    acc, pre, rec, f1 = calculate_metrics(np.asarray(y_test), np.asarray(pred))\n",
    "    print('accuracy: ', acc, 'precision:', pre, 'recall: ', rec,  'f1_score:', f1)\n",
    "    "
   ]
  },
  {
   "cell_type": "code",
   "execution_count": 11,
   "metadata": {},
   "outputs": [
    {
     "name": "stdout",
     "output_type": "stream",
     "text": [
      "tuned parameter  1\n",
      "tuned model\n",
      "accuracy:  0.84375 precision: 0.8571428571428571 recall:  0.825 f1_score: 0.8407643312101911\n",
      "default model\n",
      "accuracy:  0.84375 precision: 0.8571428571428571 recall:  0.825 f1_score: 0.8407643312101911\n"
     ]
    }
   ],
   "source": [
    "values = [0.01, 0.1, 1, 10, 100]\n",
    "tuned_param = tuning(MultinomialNB(),values, 'alpha')\n",
    "\n",
    "print('tuned model')\n",
    "model_creation(MultinomialNB(alpha=tuned_param))\n",
    "print('default model')\n",
    "model_creation(MultinomialNB())\n",
    "\n"
   ]
  },
  {
   "cell_type": "code",
   "execution_count": 12,
   "metadata": {},
   "outputs": [
    {
     "name": "stdout",
     "output_type": "stream",
     "text": [
      "tuned parameter  10\n",
      "tuned model\n",
      "accuracy:  0.7875 precision: 0.7804878048780488 recall:  0.8 f1_score: 0.7901234567901235\n",
      "default model\n",
      "accuracy:  0.8 precision: 0.8157894736842105 recall:  0.775 f1_score: 0.7948717948717949\n"
     ]
    }
   ],
   "source": [
    "values = [0.01, 0.1, 1, 10, 100]\n",
    "tuned_param = tuning(LogisticRegression(penalty='l1', solver= 'liblinear'),values, 'C')\n",
    "\n",
    "print('tuned model')                     \n",
    "model_creation(LogisticRegression(penalty='l1', solver= 'liblinear', C =tuned_param))\n",
    "print('default model')\n",
    "model_creation(LogisticRegression(penalty='l1', solver='liblinear'))"
   ]
  },
  {
   "cell_type": "code",
   "execution_count": 15,
   "metadata": {},
   "outputs": [
    {
     "name": "stdout",
     "output_type": "stream",
     "text": [
      "tuned parameter  10\n",
      "tuned model\n",
      "accuracy:  0.825 precision: 0.8421052631578947 recall:  0.8 f1_score: 0.8205128205128205\n",
      "default model\n",
      "accuracy:  0.8375 precision: 0.8375 recall:  0.8375 f1_score: 0.8375\n"
     ]
    }
   ],
   "source": [
    "ngram_range = (1,2)\n",
    "X_train, X_val, X_test, y_train, y_val, y_test, vectorizer = pipeline(fp_data, max_features, ngram_range, min_df,\n",
    "                                                                        stop_words=stop_words, val_size=val_size)\n",
    "\n",
    "values = [0.01, 0.1, 1, 10, 100]\n",
    "tuned_param = tuning(MultinomialNB(),values, 'alpha')\n",
    "\n",
    "print('tuned model')\n",
    "model_creation(MultinomialNB(alpha=tuned_param))\n",
    "print('default model')\n",
    "model_creation(MultinomialNB())\n"
   ]
  },
  {
   "cell_type": "code",
   "execution_count": 16,
   "metadata": {},
   "outputs": [
    {
     "name": "stdout",
     "output_type": "stream",
     "text": [
      "tuned parameter  10\n",
      "tuned model\n",
      "accuracy:  0.76875 precision: 0.7721518987341772 recall:  0.7625 f1_score: 0.7672955974842767\n",
      "default model\n",
      "accuracy:  0.8125 precision: 0.8289473684210527 recall:  0.7875 f1_score: 0.8076923076923076\n"
     ]
    }
   ],
   "source": [
    "values = [0.01, 0.1, 1, 10, 100]\n",
    "tuned_param = tuning(LogisticRegression(penalty='l1', solver= 'liblinear'),values, 'C')\n",
    "                     \n",
    "print('tuned model')                    \n",
    "model_creation(LogisticRegression(penalty='l1', solver= 'liblinear', C =tuned_param))\n",
    "print('default model')\n",
    "model_creation(LogisticRegression(penalty='l1', solver='liblinear'))"
   ]
  }
 ],
 "metadata": {
  "kernelspec": {
   "display_name": "Python 3",
   "language": "python",
   "name": "python3"
  },
  "language_info": {
   "codemirror_mode": {
    "name": "ipython",
    "version": 3
   },
   "file_extension": ".py",
   "mimetype": "text/x-python",
   "name": "python",
   "nbconvert_exporter": "python",
   "pygments_lexer": "ipython3",
   "version": "3.11.6"
  }
 },
 "nbformat": 4,
 "nbformat_minor": 2
}
